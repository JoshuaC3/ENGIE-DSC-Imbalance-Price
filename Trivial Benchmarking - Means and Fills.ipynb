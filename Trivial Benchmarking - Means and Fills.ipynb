{
 "cells": [
  {
   "cell_type": "markdown",
   "metadata": {},
   "source": [
    "## Trivial Mean and Moving Average Benchmarks\n",
    "\n",
    "Kaggle [Kernels](https://www.kaggle.com/kernels) and Kaggle [Forums](https://www.kaggle.com/forums) provides the users of Kaggle Data Science Competitions with excellent resources to share scripts, benchmarks and information regarding Data Science. The idea behind the notebook is to try to get the ENGIE DSC community to share ideas and code.\n",
    "\n",
    "Unfortunately, I am not familiar with R so if someone else has a similar script that they could post for the benifit of R users then this would be great."
   ]
  },
  {
   "cell_type": "code",
   "execution_count": 9,
   "metadata": {
    "ExecuteTime": {
     "end_time": "2016-11-15T22:31:07.065164",
     "start_time": "2016-11-15T22:31:07.055891"
    },
    "collapsed": false,
    "run_control": {
     "frozen": false,
     "read_only": false
    }
   },
   "outputs": [],
   "source": [
    "import os\n",
    "import re\n",
    "import sys\n",
    "import itertools\n",
    "\n",
    "import numpy as np\n",
    "import pandas as pd\n",
    "import seaborn as sns\n",
    "import datetime as dt\n",
    "import missingno as mn\n",
    "import matplotlib.pylab as plt\n",
    "\n",
    "from bokeh import mpl\n",
    "from bokeh.io import hplot\n",
    "from bokeh.models import *\n",
    "from bokeh.plotting import *\n",
    "from IPython.display import display, Image\n",
    "from sklearn.metrics import mean_squared_error as mse\n",
    "\n",
    "sys.path.append(r'/home/josh/Documents/Python Scripts/Packages')\n",
    "\n",
    "import Call_All_Functions as caf\n",
    "\n",
    "%matplotlib inline\n",
    "\n",
    "plt.rcParams['figure.figsize'] = 25, 5"
   ]
  },
  {
   "cell_type": "code",
   "execution_count": 10,
   "metadata": {
    "ExecuteTime": {
     "end_time": "2016-11-15T22:31:07.905461",
     "start_time": "2016-11-15T22:31:07.903485"
    },
    "collapsed": true,
    "run_control": {
     "frozen": false,
     "read_only": false
    }
   },
   "outputs": [],
   "source": [
    "path = r'/home/josh/Documents/Python Scripts/Data Science Challenges/ENGIE DSC/Supply Demand Forecast/'\n",
    "raw = 'Raw Data/'"
   ]
  },
  {
   "cell_type": "code",
   "execution_count": 141,
   "metadata": {
    "ExecuteTime": {
     "end_time": "2016-11-17T00:09:27.220874",
     "start_time": "2016-11-17T00:09:27.210733"
    },
    "collapsed": false,
    "run_control": {
     "frozen": false,
     "read_only": false
    }
   },
   "outputs": [],
   "source": [
    "def add_date(df):\n",
    "    \"\"\"\n",
    "    A simple wrapper for pd.datetime() to help up turning a date string column \n",
    "    into a datetime column. The columns are identified as datetime columns if\n",
    "    their name contains the words \"date\" or \"Date\".\n",
    "    \n",
    "    Parameters\n",
    "    ----------\n",
    "    df : Pandas DataFrame\n",
    "    \n",
    "    Warning: Can be slow for the less conventional date formats due to the\n",
    "    infer_datetime_format option in pd.to_datetime().\n",
    "    \n",
    "    Examples\n",
    "    --------\n",
    "    >>> df_datetime = add_date(df1)\n",
    "\n",
    "    Returns\n",
    "    -------\n",
    "    df : Pandas DataFrame\n",
    "        Pandas DataFrame (with datetime columns)\n",
    "    \"\"\"\n",
    "    for col in df.columns:\n",
    "        if re.match('.*[Dd]ate.*', col):\n",
    "            df.ix[:, col] = pd.to_datetime(df.ix[:, col])\n",
    "    return df\n",
    "\n",
    "\n",
    "def set_custom_index(df, custom_index=None):\n",
    "    \"\"\"\n",
    "    A simple wrapper for dataframe.set_index() to help with setting\n",
    "    DataFrame indexes from a list of potential target columns.\n",
    "    \n",
    "    Parameters\n",
    "    ----------\n",
    "    df : Pandas DataFrame\n",
    "    custom_index : list, default None\n",
    "        A list of desired DataFrame index options. These should be DataFrame\n",
    "        column names. If more than one is matched the latter in the list is\n",
    "        overrides the any former. When left as None the list defaults to\n",
    "        ['application_date', 'from_date', 'Date', 'date_hour'].\n",
    "        \n",
    "    Examples\n",
    "    --------\n",
    "    >>> indexed_df = set_custom_index(df1)\n",
    "    >>> custom_indexed_df = set_custom_index(df1, custom_index=['A', 'B', 'C'])\n",
    "    \n",
    "    Returns\n",
    "    -------\n",
    "    df : Pandas DataFrame\n",
    "        Indexed Pandas DataFrame\n",
    "    \"\"\"\n",
    "    \n",
    "    if not custom_index:\n",
    "        custom_index = ['application_date', 'from_date', 'Date', 'date_hour']\n",
    "    \n",
    "    for col in df.columns:\n",
    "        if col in custom_index:\n",
    "            df = df.set_index(col)\n",
    "    return df"
   ]
  },
  {
   "cell_type": "code",
   "execution_count": 139,
   "metadata": {
    "ExecuteTime": {
     "end_time": "2016-11-17T00:06:39.539755",
     "start_time": "2016-11-17T00:06:39.493595"
    },
    "collapsed": false,
    "run_control": {
     "frozen": false,
     "read_only": false
    }
   },
   "outputs": [],
   "source": [
    "data = pd.read_csv(path + raw + 'train.CSV')\n",
    "data = add_date(data)\n",
    "data = set_custom_index(data)\n",
    "\n",
    "files = ['balance delta with IGCC.CSV',\n",
    "         'Intraday.CSV',\n",
    "         'ID_capacity.CSV',\n",
    "         'Imbalance_quantity_Germany.CSV',\n",
    "         'imbalance.CSV',\n",
    "         'price_ladder.CSV',\n",
    "         'wind_forecast.CSV',\n",
    "         'Day Ahead Prices.CSV',\n",
    "         'Intraday_outages_nl.CSV',\n",
    "         'ID_avPrice_per_Interval.CSV',\n",
    "         'Imbalance_quantity_Belgium.CSV']\n",
    "\n",
    "df = pd.read_csv(path + raw + 'Day Ahead Prices.CSV')"
   ]
  },
  {
   "cell_type": "code",
   "execution_count": 61,
   "metadata": {
    "ExecuteTime": {
     "end_time": "2016-11-15T23:21:03.935511",
     "start_time": "2016-11-15T23:21:03.930724"
    },
    "collapsed": true,
    "run_control": {
     "frozen": false,
     "read_only": false
    }
   },
   "outputs": [],
   "source": [
    "data = data.reindex(pd.date_range(data.index[0], data.index[-1], freq='H'))\n",
    "\n",
    "submissions = '/Submissions/Exploratory Submissions/'"
   ]
  },
  {
   "cell_type": "markdown",
   "metadata": {},
   "source": [
    "#### Use last hour's Read"
   ]
  },
  {
   "cell_type": "code",
   "execution_count": 180,
   "metadata": {
    "ExecuteTime": {
     "end_time": "2016-11-13T18:13:52.908513",
     "start_time": "2016-11-13T18:13:52.881093"
    },
    "collapsed": false,
    "run_control": {
     "frozen": true,
     "read_only": true
    }
   },
   "outputs": [
    {
     "name": "stdout",
     "output_type": "stream",
     "text": [
      "RMSE = 43.892\n"
     ]
    }
   ],
   "source": [
    "data.fillna(method='ffill').iloc[4::5, :].to_csv(path + submissions + 'Use_last_read.csv', index=True, index_label='date_hour')\n",
    "\n",
    "print('RMSE = %.3f' % 43.8924283825)"
   ]
  },
  {
   "cell_type": "markdown",
   "metadata": {},
   "source": [
    "#### Mean"
   ]
  },
  {
   "cell_type": "code",
   "execution_count": 151,
   "metadata": {
    "ExecuteTime": {
     "end_time": "2016-11-13T18:04:25.723539",
     "start_time": "2016-11-13T18:04:25.704172"
    },
    "collapsed": false,
    "run_control": {
     "frozen": true,
     "read_only": true
    }
   },
   "outputs": [
    {
     "name": "stdout",
     "output_type": "stream",
     "text": [
      "RMSE = 43.540\n"
     ]
    }
   ],
   "source": [
    "data.fillna(data.mean()).iloc[4::5, :].to_csv(path + submissions + 'Use_mean.csv', index=True, index_label='date_hour')\n",
    "\n",
    "print('RMSE = %.3f' % 43.5395866019)"
   ]
  },
  {
   "cell_type": "markdown",
   "metadata": {
    "ExecuteTime": {
     "end_time": "2016-11-13T17:36:52.504005",
     "start_time": "2016-11-13T17:36:52.500724"
    }
   },
   "source": [
    "#### Use Mean"
   ]
  },
  {
   "cell_type": "code",
   "execution_count": 153,
   "metadata": {
    "ExecuteTime": {
     "end_time": "2016-11-13T18:06:18.221880",
     "start_time": "2016-11-13T18:06:18.198922"
    },
    "collapsed": false,
    "run_control": {
     "frozen": true,
     "read_only": true
    }
   },
   "outputs": [
    {
     "name": "stdout",
     "output_type": "stream",
     "text": [
      "RMSE = 43.551\n"
     ]
    }
   ],
   "source": [
    "data.fillna(data.rolling(window=data.shape[0], min_periods=1).mean()\n",
    "           ).iloc[4::5, :].to_csv(path + submissions + 'Use_rolling_mean_full_window.csv', index=True, index_label='date_hour')\n",
    "\n",
    "print('RMSE = %.3f' % 43.5510819387)"
   ]
  },
  {
   "cell_type": "markdown",
   "metadata": {},
   "source": [
    "#### Rolling 2-week-window Mean"
   ]
  },
  {
   "cell_type": "code",
   "execution_count": 184,
   "metadata": {
    "ExecuteTime": {
     "end_time": "2016-11-13T18:15:49.802881",
     "start_time": "2016-11-13T18:15:49.781761"
    },
    "collapsed": false,
    "run_control": {
     "frozen": true,
     "read_only": true
    }
   },
   "outputs": [
    {
     "name": "stdout",
     "output_type": "stream",
     "text": [
      "RMSE = 42.840\n"
     ]
    }
   ],
   "source": [
    "data.fillna(data.rolling(window=2*7*24, min_periods=1).mean()\n",
    "           ).iloc[4::5, :].to_csv(path + submissions + 'Use_rolling_mean_2_week_window.csv', index=True, index_label='date_hour')\n",
    "\n",
    "print('RMSE = %.3f' % 42.8401553102)"
   ]
  },
  {
   "cell_type": "markdown",
   "metadata": {},
   "source": [
    "#### EWMA with defined parameters"
   ]
  },
  {
   "cell_type": "code",
   "execution_count": 229,
   "metadata": {
    "ExecuteTime": {
     "end_time": "2016-11-13T18:53:35.028969",
     "start_time": "2016-11-13T18:53:34.827984"
    },
    "collapsed": false,
    "run_control": {
     "frozen": true,
     "read_only": true
    }
   },
   "outputs": [
    {
     "name": "stdout",
     "output_type": "stream",
     "text": [
      "Alpha: 0.000, RMSE: 41.309\n",
      "Alpha: 0.072, RMSE: 37.079\n",
      "Alpha: 0.143, RMSE: 34.493\n",
      "Alpha: 0.214, RMSE: 32.295\n",
      "Alpha: 0.286, RMSE: 30.380\n",
      "Alpha: 0.357, RMSE: 28.713\n",
      "Alpha: 0.429, RMSE: 27.284\n",
      "Alpha: 0.500, RMSE: 26.098\n",
      "Alpha: 0.571, RMSE: 25.158\n",
      "Alpha: 0.643, RMSE: 24.462\n",
      "Alpha: 0.714, RMSE: 24.001\n",
      "Alpha: 0.786, RMSE: 23.760\n",
      "Alpha: 0.857, RMSE: 23.726\n",
      "Alpha: 0.929, RMSE: 23.902\n",
      "Alpha: 1.000, RMSE: 24.305\n",
      "\n",
      "RMSE = 41.545\n"
     ]
    }
   ],
   "source": [
    "alpha = 0.5\n",
    "for alpha in np.linspace(0.0001, 1, 15):\n",
    "    print('Alpha: %.3f, RMSE: %.3f' % (alpha, (np.sqrt(mse(data.ewm(alpha=alpha).mean().imbalance_price_pos, data.fillna(0).imbalance_price_pos))\n",
    "                                                + np.sqrt(mse(data.ewm(alpha=alpha).mean().imbalance_price_pos, data.fillna(0).imbalance_price_pos)))/2))\n",
    "    \n",
    "# Use alpha = 0.84\n",
    "data.fillna(data.ewm(alpha=0.84).mean(\n",
    "    )).iloc[4::5, :].to_csv(path + submissions + 'Use_ewma_alpha_0.84.csv', index=True, index_label='date_hour')\n",
    "\n",
    "print('\\nRMSE = %.3f' % 41.5449986952)"
   ]
  },
  {
   "cell_type": "markdown",
   "metadata": {},
   "source": [
    "#### Rolling Groupby"
   ]
  },
  {
   "cell_type": "code",
   "execution_count": 121,
   "metadata": {
    "ExecuteTime": {
     "end_time": "2016-11-16T22:14:25.167790",
     "start_time": "2016-11-16T22:14:24.957420"
    },
    "collapsed": false,
    "run_control": {
     "frozen": true,
     "read_only": true
    }
   },
   "outputs": [
    {
     "name": "stdout",
     "output_type": "stream",
     "text": [
      "\n",
      "RMSE = 49.282\n"
     ]
    }
   ],
   "source": [
    "data.groupby([data.index.dayofweek, data.index.hour]\n",
    "            ).rolling(window=4, min_periods=1).mean().reset_index(level=[0, 1], drop=True\n",
    "                                                                 ).fillna(value=data.rolling(window=168, min_periods=1).mean()\n",
    "                                                                          ).sort_index().iloc[4::5, :].to_csv(path + submissions + \n",
    "                                                                                                              'Use_rolling_groupby_dotw_hour.csv',\n",
    "                                                                                                               index=True,\n",
    "                                                                                                               index_label='date_hour')\n",
    "\n",
    "print('\\nRMSE = %.3f' % 49.2823456622)"
   ]
  },
  {
   "cell_type": "markdown",
   "metadata": {},
   "source": [
    "#### Groupby Hour and Day of the Week EWMA"
   ]
  },
  {
   "cell_type": "code",
   "execution_count": 123,
   "metadata": {
    "ExecuteTime": {
     "end_time": "2016-11-16T22:59:39.567060",
     "start_time": "2016-11-16T22:59:39.335993"
    },
    "collapsed": false,
    "run_control": {
     "frozen": true,
     "read_only": true
    }
   },
   "outputs": [
    {
     "name": "stdout",
     "output_type": "stream",
     "text": [
      "\n",
      "RMSE = 54.051\n"
     ]
    }
   ],
   "source": [
    "data.groupby([data.index.dayofweek, data.index.hour]\n",
    "            ).apply(lambda x: x.ewm(alpha=0.84).mean()).fillna(value=data.rolling(window=168, min_periods=1).mean()\n",
    "                                                            ).sort_index().iloc[4::5, :].to_csv(path + submissions + \n",
    "                                                                                                              'Use_ewma_groupby_dotw_hour.csv',\n",
    "                                                                                                               index=True,\n",
    "                                                                                                               index_label='date_hour')\n",
    "\n",
    "print('\\nRMSE = %.3f' % 54.0510640811)"
   ]
  },
  {
   "cell_type": "markdown",
   "metadata": {},
   "source": [
    "#### Groupby Hour with EWMA"
   ]
  },
  {
   "cell_type": "code",
   "execution_count": 2,
   "metadata": {
    "ExecuteTime": {
     "end_time": "2016-11-25T21:05:23.909233",
     "start_time": "2016-11-25T21:05:23.904448"
    },
    "collapsed": false,
    "run_control": {
     "frozen": true,
     "read_only": true
    }
   },
   "outputs": [
    {
     "name": "stdout",
     "output_type": "stream",
     "text": [
      "\n",
      "RMSE = 54.718\n"
     ]
    }
   ],
   "source": [
    "data.groupby([data.index.hour]\n",
    "            ).apply(lambda x: x.ewm(alpha=0.84).mean()).fillna(value=data.rolling(window=168, min_periods=1).mean()\n",
    "                                                            ).sort_index().iloc[4::5, :].to_csv(path + submissions + \n",
    "                                                                                                              'Use_ewma_groupby_hour.csv',\n",
    "                                                                                                               index=True,\n",
    "                                                                                                               index_label='date_hour')\n",
    "\n",
    "print('\\nRMSE = %.3f' % 54.7180950271)"
   ]
  },
  {
   "cell_type": "markdown",
   "metadata": {},
   "source": [
    "#### Groupby Day of the Week with EWMA"
   ]
  },
  {
   "cell_type": "code",
   "execution_count": 3,
   "metadata": {
    "ExecuteTime": {
     "end_time": "2016-11-25T21:05:34.125886",
     "start_time": "2016-11-25T21:05:34.117690"
    },
    "collapsed": false,
    "run_control": {
     "frozen": true,
     "read_only": true
    }
   },
   "outputs": [
    {
     "name": "stdout",
     "output_type": "stream",
     "text": [
      "\n",
      "RMSE = 41.474\n"
     ]
    }
   ],
   "source": [
    "data.groupby([data.index.dayofweek]\n",
    "            ).apply(lambda x: x.ewm(alpha=0.84).mean()).fillna(value=data.rolling(window=168, min_periods=1).mean()\n",
    "                                                            ).sort_index().iloc[4::5, :].to_csv(path + submissions + \n",
    "                                                                                                              'Use_ewma_groupby_dotw.csv',\n",
    "                                                                                                               index=True,\n",
    "                                                                                                               index_label='date_hour')\n",
    "\n",
    "print('\\nRMSE = %.3f' % 41.4744459964)"
   ]
  }
 ],
 "metadata": {
  "kernelspec": {
   "display_name": "Python 3",
   "language": "python",
   "name": "python3"
  },
  "language_info": {
   "codemirror_mode": {
    "name": "ipython",
    "version": 3
   },
   "file_extension": ".py",
   "mimetype": "text/x-python",
   "name": "python",
   "nbconvert_exporter": "python",
   "pygments_lexer": "ipython3",
   "version": "3.5.2"
  }
 },
 "nbformat": 4,
 "nbformat_minor": 1
}
